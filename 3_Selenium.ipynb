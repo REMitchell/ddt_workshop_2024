{
 "cells": [
  {
   "cell_type": "markdown",
   "id": "58e3bdf6-56f1-4c3c-b509-244af0b927c5",
   "metadata": {},
   "source": [
    "# Selenium"
   ]
  },
  {
   "cell_type": "code",
   "execution_count": null,
   "id": "ae9cc923-8724-48f3-9955-2c667ac3124e",
   "metadata": {},
   "outputs": [],
   "source": [
    "from selenium import webdriver\n",
    "from selenium.webdriver.chrome.service import Service\n",
    "from webdriver_manager.chrome import ChromeDriverManager\n",
    "import time"
   ]
  },
  {
   "cell_type": "code",
   "execution_count": null,
   "id": "af58e886-e1fd-472c-a5e6-751d8a0d46f4",
   "metadata": {},
   "outputs": [],
   "source": [
    "CHROMEDRIVER_PATH = ChromeDriverManager().install()"
   ]
  },
  {
   "cell_type": "code",
   "execution_count": null,
   "id": "7dcdb933-6ed1-4e06-bfbd-c450857d460d",
   "metadata": {},
   "outputs": [],
   "source": [
    "CHROMEDRIVER_PATH"
   ]
  },
  {
   "cell_type": "code",
   "execution_count": null,
   "id": "13293846-4873-4b2d-8707-0318978568c7",
   "metadata": {},
   "outputs": [],
   "source": [
    "driver = webdriver.Chrome(service=Service(CHROMEDRIVER_PATH))\n",
    "driver.get(\"https://www.target.com/\")\n",
    "time.sleep(2)\n",
    "driver.close()"
   ]
  },
  {
   "cell_type": "markdown",
   "id": "04c184c8-b1de-4a3b-9b06-5bc95074f705",
   "metadata": {},
   "source": [
    "### Help! I get an error like \"chromedriver unexpectedly exited. Status code was: -9\"\n",
    "\n",
    "Try updating Chrome 🤷‍♀️"
   ]
  },
  {
   "cell_type": "markdown",
   "id": "79e2db77-9a3f-410a-bb9d-53bdfe68a6dc",
   "metadata": {},
   "source": [
    "### Using Selenium is handy for getting content behind \"Ajax walls\"\n",
    "https://pythonscraping.com/pages/javascript/ajaxDemo.html"
   ]
  },
  {
   "cell_type": "code",
   "execution_count": null,
   "id": "c3e2926d-5c7e-4c8a-b73e-f4590f9a50bf",
   "metadata": {},
   "outputs": [],
   "source": [
    "# You may want to pull out the chromedriver path\n",
    "CHROMEDRIVER_PATH = ChromeDriverManager().install()\n",
    "CHROMEDRIVER_PATH = '/Users/ryanmitchell/Documents/GitHub/ddt_workshop_2024/chrome-mac-arm64/chrome'\n"
   ]
  },
  {
   "cell_type": "code",
   "execution_count": null,
   "id": "a2e7ba6b-6ffc-437f-8ef3-45dc453ccee6",
   "metadata": {},
   "outputs": [],
   "source": [
    "from selenium.webdriver.common.by import By\n",
    "from selenium.webdriver.chrome.options import Options\n",
    "\n",
    "driver = webdriver.Chrome(service=Service(CHROMEDRIVER_PATH))\n",
    "driver.get('http://pythonscraping.com/pages/javascript/ajaxDemo.html')\n",
    "time.sleep(3)\n",
    "print(driver.find_element(By.ID, 'content').text)\n",
    "driver.close()"
   ]
  },
  {
   "cell_type": "markdown",
   "id": "63f3fb17-d3f3-4f61-a124-c0001fffe401",
   "metadata": {},
   "source": [
    "## Headless browsing"
   ]
  },
  {
   "cell_type": "code",
   "execution_count": null,
   "id": "3b765258-c33f-45ee-b87f-313590f16376",
   "metadata": {},
   "outputs": [],
   "source": [
    "chrome_options = Options()\n",
    "chrome_options.add_argument('--headless')\n",
    "driver = webdriver.Chrome(\n",
    "    service=Service(CHROMEDRIVER_PATH),\n",
    "    options=chrome_options\n",
    ")\n",
    "driver.get('http://pythonscraping.com/pages/javascript/ajaxDemo.html')\n",
    "time.sleep(3)\n",
    "print(driver.find_element(By.ID, 'content').text)\n",
    "driver.close()"
   ]
  },
  {
   "cell_type": "markdown",
   "id": "0dc83500-f4ba-44d9-bd8a-e67bc938232d",
   "metadata": {},
   "source": [
    "## Expected Conditions"
   ]
  },
  {
   "cell_type": "code",
   "execution_count": null,
   "id": "6e6f854a-3013-4b05-ad04-75bfb0b9ca51",
   "metadata": {},
   "outputs": [],
   "source": [
    "from selenium.webdriver.support.ui import WebDriverWait\n",
    "from selenium.webdriver.support import expected_conditions as EC\n",
    "\n",
    "chrome_options = Options()\n",
    "chrome_options.add_argument(\"--headless\")\n",
    "driver = webdriver.Chrome(\n",
    "    service=Service(CHROMEDRIVER_PATH),\n",
    "    options=chrome_options)\n",
    "\n",
    "driver.get('http://pythonscraping.com/pages/javascript/ajaxDemo.html')\n",
    "try:\n",
    "    element = WebDriverWait(driver, 10).until(EC.presence_of_element_located((By.ID, 'loadedButton')))\n",
    "finally:\n",
    "    print(driver.find_element(By.ID, 'content').text)\n",
    "    driver.close()"
   ]
  },
  {
   "cell_type": "markdown",
   "id": "4c987309-09b1-4a9c-8901-b6ebcfda36d8",
   "metadata": {},
   "source": [
    "## Other Supported Selenium Browsers"
   ]
  },
  {
   "cell_type": "code",
   "execution_count": null,
   "id": "ff4b56ec-b957-47fc-bfee-850f1d832e15",
   "metadata": {},
   "outputs": [],
   "source": [
    "from webdriver_manager.firefox import GeckoDriverManager\n",
    "from webdriver_manager.microsoft import EdgeChromiumDriverManager\n",
    "\n",
    "print(GeckoDriverManager().install())\n",
    "print(EdgeChromiumDriverManager().install())"
   ]
  },
  {
   "cell_type": "code",
   "execution_count": null,
   "id": "d555af54-34a0-4b1f-9181-a19d4909a076",
   "metadata": {},
   "outputs": [],
   "source": []
  },
  {
   "cell_type": "markdown",
   "id": "6d073ef6-4a2b-425c-a6b6-ce10ae414ae1",
   "metadata": {},
   "source": [
    "## Scrapy can be used to solve a lot of difficult problems"
   ]
  },
  {
   "cell_type": "code",
   "execution_count": null,
   "id": "49048b43-2c92-4b53-83db-5e8a0d129827",
   "metadata": {},
   "outputs": [],
   "source": [
    "from urllib.request import urlopen\n",
    "\n",
    "html = urlopen('https://www.cloudflare.com/plans/zero-trust-services/#overview')\n",
    "soup = BeautifulSoup(html.read(), 'html.parser')"
   ]
  },
  {
   "cell_type": "code",
   "execution_count": null,
   "id": "db58e772-458f-4f22-b8a0-fd2b25406ede",
   "metadata": {},
   "outputs": [],
   "source": [
    "driver = webdriver.Chrome(service=Service(ChromeDriverManager().install()))\n",
    "driver.get(\"https://www.cloudflare.com/plans/zero-trust-services/#overview\")\n",
    "time.sleep(2)\n",
    "print(driver.page_source[0:200])\n",
    "driver.close()"
   ]
  },
  {
   "cell_type": "markdown",
   "id": "e3f0459a-f977-4bc3-8a30-048a579b89ab",
   "metadata": {},
   "source": [
    "## Performing Actions with Selenium"
   ]
  },
  {
   "cell_type": "code",
   "execution_count": null,
   "id": "b429a0d5-bd32-47ae-9d05-3fadb889a983",
   "metadata": {},
   "outputs": [],
   "source": [
    "# We will use https://www.dunkindonuts.com/en/locations \n",
    "# to search for Dunkin Donuts Locations\n",
    "from selenium.webdriver.common.by import By\n",
    "\n",
    "driver = webdriver.Chrome(service=Service(CHROMEDRIVER_PATH))\n",
    "driver.get(\"https://www.dunkindonuts.com/en/locations\")\n",
    "\n",
    "location_field = driver.find_element(By.CSS_SELECTOR, 'input#location')\n",
    "location_field.send_keys('02155')\n",
    "time.sleep(2)\n",
    "button = driver.find_element(By.CSS_SELECTOR, 'div.location-search__submit input')\n",
    "button.click()\n",
    "driver.close()\n"
   ]
  },
  {
   "cell_type": "code",
   "execution_count": null,
   "id": "f3ae8014-4505-4dfe-8fcb-77aebc4debc6",
   "metadata": {},
   "outputs": [],
   "source": [
    "from selenium.webdriver.common.keys import Keys\n",
    "\n",
    "driver = webdriver.Chrome(service=Service(CHROMEDRIVER_PATH))\n",
    "driver.get(\"https://www.dunkindonuts.com/en/locations\")\n",
    "\n",
    "location_field = driver.find_element(By.CSS_SELECTOR, 'input#location')\n",
    "text = '02155'\n",
    "for char in text:\n",
    "    location_field.send_keys(char)\n",
    "    time.sleep(0.5)\n",
    "location_field.send_keys(Keys.ENTER)\n",
    "button = driver.find_element(By.CSS_SELECTOR, 'div.location-search__submit input')\n",
    "print(button)\n",
    "button.click()\n",
    "driver.close()"
   ]
  },
  {
   "cell_type": "markdown",
   "id": "b8f5550e-47df-45c7-8096-21026a39d8a4",
   "metadata": {},
   "source": [
    "## You Don't Always Have to Perform Actions"
   ]
  },
  {
   "cell_type": "code",
   "execution_count": null,
   "id": "1574f5f9-e8fe-4476-b571-f5512b10840b",
   "metadata": {},
   "outputs": [],
   "source": [
    "from urllib.request import urlopen\n",
    "from bs4 import BeautifulSoup\n",
    "\n",
    "html = urlopen('https://www.dunkindonuts.com/en/locations?location=02155')\n",
    "soup = BeautifulSoup(html.read(), 'html.parser')\n",
    "\n",
    "print(soup.select('.store-item__address'))"
   ]
  },
  {
   "cell_type": "code",
   "execution_count": null,
   "id": "9bee701a-2e27-4143-822c-660d54868f10",
   "metadata": {},
   "outputs": [],
   "source": [
    "driver = webdriver.Chrome(service=Service(CHROMEDRIVER_PATH))\n",
    "driver.get('https://www.dunkindonuts.com/en/locations?location=02155')\n",
    "\n",
    "time.sleep(1)\n",
    "for address in driver.find_elements(By.CSS_SELECTOR, 'div.js-store-address'):\n",
    "    print('-'*20)\n",
    "    print(address.text)\n",
    "driver.close()"
   ]
  },
  {
   "cell_type": "markdown",
   "id": "9f7aecef-878e-4fcb-8434-a4a6e2df9740",
   "metadata": {},
   "source": [
    "### Project: Crawling Target with Selenium"
   ]
  },
  {
   "cell_type": "code",
   "execution_count": null,
   "id": "415ff681-79ea-49ba-adf0-2cbd8bdcc33d",
   "metadata": {},
   "outputs": [],
   "source": [
    "# Hints: \n",
    "# Product page URLs always start with \"/p/\"\n",
    "# Product listing pages always start with '/pl/'\n",
    "driver = webdriver.Chrome(service=Service(CHROMEDRIVER_PATH))\n",
    "driver.get('https://www.target.com/pl/489309002')\n",
    "\n",
    "product_links = []\n",
    "visited_product_links = []\n",
    "time.sleep(2)\n",
    "for link in driver.find_elements(By.TAG_NAME, 'a'):\n",
    "    print(link.get_attribute('href'))\n",
    "\n",
    "driver.close()\n"
   ]
  },
  {
   "cell_type": "code",
   "execution_count": null,
   "id": "ea7f91bb-498f-4941-a922-88fca844f5f7",
   "metadata": {},
   "outputs": [],
   "source": []
  }
 ],
 "metadata": {
  "kernelspec": {
   "display_name": "Python 3 (ipykernel)",
   "language": "python",
   "name": "python3"
  },
  "language_info": {
   "codemirror_mode": {
    "name": "ipython",
    "version": 3
   },
   "file_extension": ".py",
   "mimetype": "text/x-python",
   "name": "python",
   "nbconvert_exporter": "python",
   "pygments_lexer": "ipython3",
   "version": "3.9.13"
  }
 },
 "nbformat": 4,
 "nbformat_minor": 5
}
