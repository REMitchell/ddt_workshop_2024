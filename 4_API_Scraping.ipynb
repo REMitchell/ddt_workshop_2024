{
 "cells": [
  {
   "cell_type": "markdown",
   "id": "ed673da8-9332-4aa3-8708-32b0971ab8b0",
   "metadata": {},
   "source": [
    "# API Scraping"
   ]
  },
  {
   "cell_type": "markdown",
   "id": "c695a9d3-5832-477b-86c2-7e658001b018",
   "metadata": {},
   "source": [
    "Go here and find your dunkin donuts location! https://www.dunkindonuts.com/en/locations "
   ]
  },
  {
   "cell_type": "code",
   "execution_count": null,
   "id": "df0aa447-69db-47c6-a961-fb5ba78f7a2f",
   "metadata": {},
   "outputs": [],
   "source": [
    "import requests\n",
    "import json\n",
    "\n",
    "data = {\n",
    "    'service': 'DSL',\n",
    "    'origin': '42.3613114%2C-71.0482911',\n",
    "    'radius': 25,\n",
    "    'maxMatches': 30,\n",
    "    'pageSize': 1,\n",
    "    'units': 'm',\n",
    "    'ambiguities': 'ignore'\n",
    "}\n",
    "r = requests.post('https://www.dunkindonuts.com/bin/servlet/dsl', data=data)\n",
    "\n"
   ]
  },
  {
   "cell_type": "code",
   "execution_count": null,
   "id": "0a879130-1b48-4f34-aeb8-13aa5fe7073b",
   "metadata": {},
   "outputs": [],
   "source": [
    "results = json.loads(r.text)\n",
    "stores = results['data']['storeAttributes']\n",
    "print(len(stores))"
   ]
  },
  {
   "cell_type": "markdown",
   "id": "6ae21993-7165-4bb3-9881-7c938c454240",
   "metadata": {},
   "source": [
    "## Setting Headers and Cookies"
   ]
  },
  {
   "cell_type": "code",
   "execution_count": null,
   "id": "3772bb90-0680-4e79-a210-086fa9f27f09",
   "metadata": {},
   "outputs": [],
   "source": [
    "headers = {\"Content-Type\": \"application/json; charset=utf-8\"}\n",
    "headers = {'Content-Type': 'application/x-www-form-urlencoded; charset=UTF-8'}\n",
    "data = {\n",
    "    'service': 'DSL',\n",
    "    'origin': '42.3613114%2C-71.0482911',\n",
    "    'radius': 25,\n",
    "    'maxMatches': 30,\n",
    "    'pageSize': 1,\n",
    "    'units': 'm',\n",
    "    'ambiguities': 'ignore'\n",
    "}\n",
    "r = requests.post(\n",
    "    'https://www.dunkindonuts.com/bin/servlet/dsl',\n",
    "    data=data,\n",
    "    headers=headers\n",
    ")\n",
    "results = json.loads(r.text)"
   ]
  },
  {
   "cell_type": "code",
   "execution_count": null,
   "id": "d5933c6f-ec00-4f19-b7d7-3390e1dd8889",
   "metadata": {},
   "outputs": [],
   "source": []
  },
  {
   "cell_type": "markdown",
   "id": "00677534-dc49-4066-80ca-cd9b259ac805",
   "metadata": {},
   "source": [
    "## Sessions\n",
    "\n",
    "Keeps the same headers/cookies within the same session"
   ]
  },
  {
   "cell_type": "code",
   "execution_count": null,
   "id": "79ca1cf1-a83a-4c5a-a7f1-d1591528b09e",
   "metadata": {},
   "outputs": [],
   "source": [
    "s = requests.Session()\n",
    "\n",
    "s.get('https://www.dunkindonuts.com/en')"
   ]
  },
  {
   "cell_type": "code",
   "execution_count": null,
   "id": "4fca754f-2a1a-426f-b2cb-8026ea944dc6",
   "metadata": {},
   "outputs": [],
   "source": [
    "s.headers"
   ]
  },
  {
   "cell_type": "code",
   "execution_count": null,
   "id": "10cd48d0-e6bd-47ef-acd1-74ccb085ed3b",
   "metadata": {},
   "outputs": [],
   "source": [
    "headers = s.headers\n",
    "headers['User-Agent'] = 'Mozilla/5.0 (Macintosh; Intel Mac OS X 10_15_7) AppleWebKit/537.36 (KHTML, like Gecko) Chrome/120.0.0.0 Safari/537.36'\n",
    "s.get('https://www.dunkindonuts.com/en/dunkinrewards', headers=headers)"
   ]
  },
  {
   "cell_type": "code",
   "execution_count": null,
   "id": "0264094a-c387-4d1a-88c6-5f5424866d74",
   "metadata": {},
   "outputs": [],
   "source": [
    "s.headers"
   ]
  },
  {
   "cell_type": "code",
   "execution_count": null,
   "id": "643e122d-9c65-401e-af81-6924922f16e8",
   "metadata": {},
   "outputs": [],
   "source": [
    "s.cookies"
   ]
  },
  {
   "cell_type": "code",
   "execution_count": null,
   "id": "32d4539b-f73b-4aa8-a662-3493b367d3b1",
   "metadata": {},
   "outputs": [],
   "source": [
    "for cookie in s.cookies:\n",
    "    print(cookie.name)\n",
    "    print(cookie.value)"
   ]
  },
  {
   "cell_type": "code",
   "execution_count": null,
   "id": "6e21877a-0ed1-4745-83c8-5e9acfdd679a",
   "metadata": {},
   "outputs": [],
   "source": [
    "s.get('https://www.dunkindonuts.com/en/dunkinrewards/registration')"
   ]
  },
  {
   "cell_type": "code",
   "execution_count": null,
   "id": "99354362-4845-480e-bf5d-41f11d077c59",
   "metadata": {},
   "outputs": [],
   "source": [
    "# Another way to set cookies:\n",
    "\n",
    "headers = {\n",
    "    'Cookie': \n",
    "}"
   ]
  },
  {
   "cell_type": "markdown",
   "id": "f5c60039-47cc-4dad-933f-f24a852b55c0",
   "metadata": {},
   "source": [
    "## Look for hidden APIs on Target.com"
   ]
  },
  {
   "cell_type": "code",
   "execution_count": null,
   "id": "eaf6d7c5-0f31-4384-b9e5-83bd2ef9c4f0",
   "metadata": {},
   "outputs": [],
   "source": [
    "# Hint: redsky at night, scraper's delight!"
   ]
  },
  {
   "cell_type": "code",
   "execution_count": null,
   "id": "83bed7e5-c880-4ca1-b6a5-0ed0905eef3c",
   "metadata": {},
   "outputs": [],
   "source": []
  }
 ],
 "metadata": {
  "kernelspec": {
   "display_name": "Python 3 (ipykernel)",
   "language": "python",
   "name": "python3"
  },
  "language_info": {
   "codemirror_mode": {
    "name": "ipython",
    "version": 3
   },
   "file_extension": ".py",
   "mimetype": "text/x-python",
   "name": "python",
   "nbconvert_exporter": "python",
   "pygments_lexer": "ipython3",
   "version": "3.9.13"
  }
 },
 "nbformat": 4,
 "nbformat_minor": 5
}
