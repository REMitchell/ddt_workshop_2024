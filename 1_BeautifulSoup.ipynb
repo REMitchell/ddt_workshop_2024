{
 "cells": [
  {
   "cell_type": "markdown",
   "id": "1e92e281-c2fb-4bdf-a629-7835551a515d",
   "metadata": {},
   "source": [
    "# Retrieving and Parsing HTML"
   ]
  },
  {
   "cell_type": "code",
   "execution_count": null,
   "id": "19b91ce1-df33-4cb0-a347-aec7155c82ff",
   "metadata": {},
   "outputs": [],
   "source": [
    "from bs4 import BeautifulSoup\n",
    "from urllib.request import urlopen"
   ]
  },
  {
   "cell_type": "code",
   "execution_count": null,
   "id": "d18da017-75dc-476c-bb40-a282731768be",
   "metadata": {
    "editable": true,
    "slideshow": {
     "slide_type": ""
    },
    "tags": []
   },
   "outputs": [],
   "source": [
    "from urllib.request import urlopen\n",
    "\n",
    "html = urlopen('https://en.wikipedia.org/wiki/Python_(programming_language)')\n",
    "print(html.read()[0:100])"
   ]
  },
  {
   "cell_type": "code",
   "execution_count": null,
   "id": "4d157969-9194-4c23-8906-4d391a1bbe90",
   "metadata": {},
   "outputs": [],
   "source": [
    "from urllib.error import HTTPError\n",
    "from urllib.error import URLError\n",
    "\n",
    "try:\n",
    "    html = urlopen('https://en.wikipedia.org/wiki/Python_(programming_language)')\n",
    "except HTTPError as e:\n",
    "    print(\"The server returned an HTTP error\")\n",
    "except URLError as e:\n",
    "    print(\"The server could not be found!\")\n",
    "else:\n",
    "    print(html.read()[0:100])\n",
    "    "
   ]
  },
  {
   "cell_type": "code",
   "execution_count": null,
   "id": "271b3ae6-4953-4531-bca2-5575ca3b2d82",
   "metadata": {
    "editable": true,
    "slideshow": {
     "slide_type": ""
    },
    "tags": []
   },
   "outputs": [],
   "source": [
    "from urllib.request import urlopen\n",
    "\n",
    "html = urlopen('https://en.wikipedia.org/wiki/Python_(programming_language)')\n",
    "soup = BeautifulSoup(html.read(), 'html.parser')"
   ]
  },
  {
   "cell_type": "code",
   "execution_count": null,
   "id": "0acf860c-5ed2-46a6-a1b4-ce4a77270c33",
   "metadata": {},
   "outputs": [],
   "source": [
    "from urllib.request import urlopen\n",
    "\n",
    "html = urlopen('https://en.wikipedia.org/w/index.php?title=Python_(programming_language)&action=history')\n",
    "soup = BeautifulSoup(html.read(), 'html.parser')\n",
    "# Use .text to get the inner text of each element\n",
    "print([e.text for e in soup.select('a.mw-anonuserlink bdi')])\n"
   ]
  },
  {
   "cell_type": "code",
   "execution_count": null,
   "id": "ec8a4606-1bcb-4d06-9e82-220179d9eea3",
   "metadata": {},
   "outputs": [],
   "source": [
    "html = urlopen('https://en.wikipedia.org/wiki/Python_(programming_language)')\n",
    "soup = BeautifulSoup(html.read(), 'html.parser')"
   ]
  },
  {
   "cell_type": "code",
   "execution_count": null,
   "id": "bb42ba0e-3ffd-4d02-800d-1b36c11ce71e",
   "metadata": {
    "editable": true,
    "slideshow": {
     "slide_type": ""
    },
    "tags": []
   },
   "outputs": [],
   "source": [
    "print(soup.title)"
   ]
  },
  {
   "cell_type": "code",
   "execution_count": null,
   "id": "bb2b41f7-4b4e-4bdd-8db7-6d7872d0e8f6",
   "metadata": {},
   "outputs": [],
   "source": [
    "soup.find('title')"
   ]
  },
  {
   "cell_type": "code",
   "execution_count": null,
   "id": "7d0d4f93-aaf2-40ca-af49-51dd2e3281cf",
   "metadata": {},
   "outputs": [],
   "source": [
    "soup.find('h2')"
   ]
  },
  {
   "cell_type": "code",
   "execution_count": null,
   "id": "d1955bbc-bea9-4739-92b8-5b69ac50a988",
   "metadata": {},
   "outputs": [],
   "source": [
    "for title in soup.find_all('h2'):\n",
    "    print(title.text)"
   ]
  },
  {
   "cell_type": "markdown",
   "id": "36a303c5-b449-4918-9677-9cdc36ea4521",
   "metadata": {},
   "source": [
    "### Tags by attributes"
   ]
  },
  {
   "cell_type": "code",
   "execution_count": null,
   "id": "e4f24b0f-219a-4cdf-b171-4a66ac2fdf98",
   "metadata": {
    "editable": true,
    "slideshow": {
     "slide_type": ""
    },
    "tags": []
   },
   "outputs": [],
   "source": [
    "soup.find_all('span', id='History', class_='mw-headline')"
   ]
  },
  {
   "cell_type": "code",
   "execution_count": null,
   "id": "5b1a9b27-283d-40b8-9469-e6c02cf87786",
   "metadata": {},
   "outputs": [],
   "source": [
    "# You don't need the tag name\n",
    "soup.find_all(id='History', class_='mw-headline')"
   ]
  },
  {
   "cell_type": "code",
   "execution_count": null,
   "id": "07b872c5-8882-4c76-b897-b3729729104c",
   "metadata": {
    "editable": true,
    "slideshow": {
     "slide_type": ""
    },
    "tags": []
   },
   "outputs": [],
   "source": [
    "soup.find_all('span', {'class':['mw-headline'], 'id': ['History']})"
   ]
  },
  {
   "cell_type": "code",
   "execution_count": null,
   "id": "18b9dcae-d42a-4711-b1fa-59d953345728",
   "metadata": {
    "editable": true,
    "slideshow": {
     "slide_type": ""
    },
    "tags": []
   },
   "outputs": [],
   "source": [
    "# can use any attribute\n",
    "for link in soup.find_all('a', {'title': True})[0:10]:\n",
    "    print(link.text)"
   ]
  },
  {
   "cell_type": "code",
   "execution_count": null,
   "id": "cb333a6b-8be6-42e4-9108-b7bad633b7d7",
   "metadata": {
    "editable": true,
    "slideshow": {
     "slide_type": ""
    },
    "tags": []
   },
   "outputs": [],
   "source": [
    "soup.find_all('a', {'title': False})[0:10]"
   ]
  },
  {
   "cell_type": "markdown",
   "id": "9f4897c8-2481-4ba3-88f7-cbf22118b550",
   "metadata": {},
   "source": [
    "## Python Requests Library\n",
    "(see slides)"
   ]
  },
  {
   "cell_type": "code",
   "execution_count": null,
   "id": "d4ac7f74-c7ef-40a0-b03c-d58ec5e22e17",
   "metadata": {},
   "outputs": [],
   "source": [
    "import requests"
   ]
  },
  {
   "cell_type": "code",
   "execution_count": null,
   "id": "e9af595f-7bc0-45bb-8e7d-0f74e8f44cb5",
   "metadata": {},
   "outputs": [],
   "source": [
    "r = requests.get('https://en.wikipedia.org/wiki/Python_(programming_language)')"
   ]
  },
  {
   "cell_type": "code",
   "execution_count": null,
   "id": "89d9defc-8e69-46e7-9961-bdee73d2a299",
   "metadata": {},
   "outputs": [],
   "source": [
    "print(r)"
   ]
  },
  {
   "cell_type": "code",
   "execution_count": null,
   "id": "7f0bb446-41a8-4f5c-beb2-b165128833bd",
   "metadata": {},
   "outputs": [],
   "source": [
    "r.headers"
   ]
  },
  {
   "cell_type": "code",
   "execution_count": null,
   "id": "53190da5-586d-4ed5-975b-f64bb66e64a2",
   "metadata": {},
   "outputs": [],
   "source": [
    "r.cookies"
   ]
  },
  {
   "cell_type": "code",
   "execution_count": null,
   "id": "bbb4091a-52ff-41b4-a94f-5a5e191b663b",
   "metadata": {},
   "outputs": [],
   "source": [
    "r.status_code"
   ]
  },
  {
   "cell_type": "code",
   "execution_count": null,
   "id": "9ebe9d79-f708-4217-85c9-f36907c7f78e",
   "metadata": {},
   "outputs": [],
   "source": [
    "r.text[0:100]"
   ]
  },
  {
   "cell_type": "code",
   "execution_count": null,
   "id": "0f9f4b2f-bfcb-42a3-af9e-9b0561cb9f6a",
   "metadata": {},
   "outputs": [],
   "source": [
    "try:\n",
    "    r.json()\n",
    "except Exception as e:\n",
    "    print(e)"
   ]
  },
  {
   "cell_type": "code",
   "execution_count": null,
   "id": "7e64f6cd-ed97-47be-904c-74a8071ba8e1",
   "metadata": {},
   "outputs": [],
   "source": []
  },
  {
   "cell_type": "markdown",
   "id": "4d91aac7-b9de-4ee6-8bea-2d20a012befa",
   "metadata": {
    "editable": true,
    "slideshow": {
     "slide_type": ""
    },
    "tags": []
   },
   "source": [
    "## Practice"
   ]
  },
  {
   "cell_type": "code",
   "execution_count": null,
   "id": "971a28df-ec65-487c-be57-ef79b63a6033",
   "metadata": {
    "editable": true,
    "slideshow": {
     "slide_type": ""
    },
    "tags": []
   },
   "outputs": [],
   "source": [
    "html = requests.get('https://www.target.com/p/robo-alive-robotic-red-snake-toy-by-zuru/-/A-83388744')\n",
    "soup = BeautifulSoup(html.text, 'html.parser')\n",
    "print(soup.h1)\n"
   ]
  },
  {
   "cell_type": "code",
   "execution_count": null,
   "id": "608579ea-c4ca-4c5c-86ca-433a9125b7d5",
   "metadata": {
    "editable": true,
    "slideshow": {
     "slide_type": ""
    },
    "tags": []
   },
   "outputs": [],
   "source": []
  }
 ],
 "metadata": {
  "kernelspec": {
   "display_name": "Python 3 (ipykernel)",
   "language": "python",
   "name": "python3"
  },
  "language_info": {
   "codemirror_mode": {
    "name": "ipython",
    "version": 3
   },
   "file_extension": ".py",
   "mimetype": "text/x-python",
   "name": "python",
   "nbconvert_exporter": "python",
   "pygments_lexer": "ipython3",
   "version": "3.9.13"
  }
 },
 "nbformat": 4,
 "nbformat_minor": 5
}
